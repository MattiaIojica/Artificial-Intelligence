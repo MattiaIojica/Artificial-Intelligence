{
 "cells": [
  {
   "cell_type": "code",
   "execution_count": 9,
   "id": "d2d4e337-b705-4d6e-bfd1-48e41cc70087",
   "metadata": {},
   "outputs": [],
   "source": [
    "import numpy as np\n",
    "import matplotlib.image as mpimg\n",
    "from sklearn import svm\n",
    "from sklearn import preprocessing"
   ]
  },
  {
   "cell_type": "code",
   "execution_count": 10,
   "id": "5f9529af-3f38-4890-b077-926965172530",
   "metadata": {},
   "outputs": [],
   "source": [
    "train_data = []\n",
    "train_labels = []\n",
    "test_data = []\n",
    "validation_data = []\n",
    "validation_labels = []\n",
    "\n",
    "train_file = open(\"train.txt\", 'r')\n",
    "test_file = open(\"test.txt\", 'r')\n",
    "validation_file = open(\"validation.txt\", 'r')\n",
    "lines_train = train_file.readlines()\n",
    "lines_test = test_file.readlines()\n",
    "\n",
    "for i in range(1, len(lines_train)):\n",
    "    n, l = lines_train[i].split(',')\n",
    "    image = mpimg.imread('./train+validation/' + n)\n",
    "    train_data.append(image)\n",
    "    train_labels.append(l[0])\n",
    "train_file.close()\n",
    "\n",
    "for i in range(1, len(lines_test)):\n",
    "    n = lines_test[i].strip('\\n')\n",
    "    image = mpimg.imread('./test/' + n)\n",
    "    test_data.append(image)\n",
    "test_file.close() \n",
    "\n",
    "for i in range(1, len(lines_train)):\n",
    "    n, l = lines_train[i].split(',')\n",
    "    image = mpimg.imread('./train+validation/' + n)\n",
    "    validation_data.append(image)\n",
    "    validation_labels.append(l[0])\n",
    "validation_file.close()"
   ]
  },
  {
   "cell_type": "code",
   "execution_count": 11,
   "id": "22c78870-eacb-4af6-975a-8156ede76eef",
   "metadata": {},
   "outputs": [],
   "source": [
    "train_data = np.array(train_data)\n",
    "test_data = np.array(test_data)\n",
    "validation_data = np.array(validation_data)\n",
    "\n",
    "# train_data.flatten().shape\n",
    "# test_data.flatten().shape\n",
    "# validation_data.flatten().shape\n",
    "\n",
    "train_data = train_data.flatten().reshape(8000, 768) #6144000 / 768, 16 * 16 * 3\n",
    "test_data = test_data.flatten().reshape(2819, 768) #2164992 / 768, 16 * 16 * 3 \n",
    "validation_data = validation_data.flatten().reshape(8000, 768) #6144000 / 768, 16 * 16 * 3"
   ]
  },
  {
   "cell_type": "code",
   "execution_count": 12,
   "id": "ff06fbba-f1f9-4c54-9d07-c6019a9a84fe",
   "metadata": {},
   "outputs": [],
   "source": [
    "#laborator 4 ai\n",
    "\n",
    "def accuracy_score(true_labels, predicted_labels):\n",
    "    return (true_labels == predicted_labels).mean()\n",
    "\n",
    "def normalize_data(train_data, test_data, type = None):\n",
    "    if type == 'standard':\n",
    "        scaler = preprocessing.StandardScaler()\n",
    "    elif type == 'l1':\n",
    "        scaler = preprocessing.Normalizer(norm = 'l1')\n",
    "    elif type == 'l2':\n",
    "        scaler = preprocessing.Normalizer(norm = 'l2')\n",
    "    \n",
    "    if type is None:\n",
    "        return train_data, test_data\n",
    "    else:\n",
    "        scaler.fit(train_data)\n",
    "        scaler_train = scaler.transform(train_data)\n",
    "        scaler_test = scaler.transform(test_data)\n",
    "        return scaler_train, scaler_test"
   ]
  },
  {
   "cell_type": "code",
   "execution_count": 13,
   "id": "ce950ffe-d162-4250-88d1-cc534e88e04c",
   "metadata": {},
   "outputs": [],
   "source": [
    "scaled_train, scaled_test = normalize_data(train_data, validation_data, type = 'l2')\n",
    "\n",
    "# print(scaled_train, scaled_test, sep = '\\n\\n\\n\\n')"
   ]
  },
  {
   "cell_type": "code",
   "execution_count": 14,
   "id": "0c22c32d-d910-4981-9f6c-273390988c59",
   "metadata": {},
   "outputs": [
    {
     "name": "stdout",
     "output_type": "stream",
     "text": [
      "0.944375\n"
     ]
    }
   ],
   "source": [
    "svm_classifier = svm.SVC(C = 0.9, kernel = 'poly')\n",
    "\n",
    "svm_classifier.fit(scaled_train, train_labels)\n",
    "\n",
    "predicted = svm_classifier.predict(scaled_test)\n",
    "\n",
    "acc = accuracy_score(validation_labels, predicted)\n",
    "\n",
    "print(acc)"
   ]
  },
  {
   "cell_type": "code",
   "execution_count": null,
   "id": "ec60d8fe-a765-4ad6-b229-443a4d75c715",
   "metadata": {},
   "outputs": [],
   "source": [
    "scaled_train, scaled_test = normalize_data(train_data, test_data, type = 'l2')\n",
    "\n",
    "svm_classifier = svm.SVC(C = 0.9, kernel = 'poly')\n",
    "\n",
    "svm_classifier.fit(scaled_train, train_labels)\n",
    "\n",
    "predicted = svm_classifier.predict(scaled_test)\n",
    "\n",
    "test_file = open(\"test.txt\", 'r')\n",
    "lines_test = test_file.readlines()\n",
    "\n",
    "write_file = open(\"nume.txt\", 'w')\n",
    "j = 0\n",
    "write_file.write(\"id,label\\n\")\n",
    "for i in range(1, len(lines_test)):\n",
    "    write_file.write(f\"{lines_test[i][:-1]},{predicted[j]}\\n\")\n",
    "    j += 1\n",
    "\n",
    "write_file.close()"
   ]
  },
  {
   "cell_type": "code",
   "execution_count": null,
   "id": "2953d530",
   "metadata": {},
   "outputs": [],
   "source": []
  }
 ],
 "metadata": {
  "kernelspec": {
   "display_name": "Python 3 (ipykernel)",
   "language": "python",
   "name": "python3"
  },
  "language_info": {
   "codemirror_mode": {
    "name": "ipython",
    "version": 3
   },
   "file_extension": ".py",
   "mimetype": "text/x-python",
   "name": "python",
   "nbconvert_exporter": "python",
   "pygments_lexer": "ipython3",
   "version": "3.10.2"
  }
 },
 "nbformat": 4,
 "nbformat_minor": 5
}
