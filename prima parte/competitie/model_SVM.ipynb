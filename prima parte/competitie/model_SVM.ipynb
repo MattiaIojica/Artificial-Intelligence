{
 "cells": [
  {
   "cell_type": "code",
   "execution_count": 24,
   "id": "d2d4e337-b705-4d6e-bfd1-48e41cc70087",
   "metadata": {},
   "outputs": [],
   "source": [
    "import numpy as np\n",
    "import matplotlib.image as mpimg\n",
    "from sklearn import svm\n",
    "from sklearn import preprocessing"
   ]
  },
  {
   "cell_type": "code",
   "execution_count": 25,
   "id": "5f9529af-3f38-4890-b077-926965172530",
   "metadata": {},
   "outputs": [],
   "source": [
    "train_images = []\n",
    "train_labels = []\n",
    "test_images = []\n",
    "validation_images = []\n",
    "validation_labels = []\n",
    "\n",
    "train_file = open(\"train.txt\", 'r') #read file train\n",
    "test_file = open(\"test.txt\", 'r') #read file test\n",
    "validation_file = open(\"validation.txt\", 'r') #read file validation\n",
    "train_file_lines = train_file.readlines() #lines from train\n",
    "test_file_lines = test_file.readlines() #lines from test\n",
    "\n",
    "\n",
    "for i in range(1, len(train_file_lines)):\n",
    "    code, lab = train_file_lines[i].split(',') #split line by ','\n",
    "    image = mpimg.imread('./train+validation/' + code) #read the image\n",
    "    # print(image)\n",
    "    train_images.append(image) #append the image\n",
    "    train_labels.append(lab[0]) #lab[0] => without '\\n'\n",
    "train_file.close() #close train\n",
    "# print(train_images[0])\n",
    "\n",
    "for i in range(1, len(test_file_lines)):\n",
    "    code = test_file_lines[i].strip('\\n') #removes '\\n'\n",
    "    image = mpimg.imread('./test/' + code)#read the image\n",
    "    #print(image)\n",
    "    test_images.append(image) #append the image\n",
    "test_file.close() #close test\n",
    "# print(test_images[0])\n",
    "\n",
    "for i in range(1, len(train_file_lines)):\n",
    "    code, lab = train_file_lines[i].split(',')#split line by ','\n",
    "    image = mpimg.imread('./train+validation/' + code)#read the image\n",
    "    # print(image)\n",
    "    validation_images.append(image) #append the image\n",
    "    validation_labels.append(lab[0]) #lab[0] => without '\\n'\n",
    "validation_file.close() #close validation\n",
    "# print(validation_images[0])"
   ]
  },
  {
   "cell_type": "code",
   "execution_count": 26,
   "id": "22c78870-eacb-4af6-975a-8156ede76eef",
   "metadata": {},
   "outputs": [],
   "source": [
    "#transform lists into np arrays\n",
    "train_images = np.array(train_images)\n",
    "test_images = np.array(test_images)\n",
    "validation_images = np.array(validation_images)\n",
    "\n",
    "# print(train_images.flatten().shape)\n",
    "# print(test_images.flatten().shape)\n",
    "# print(validation_images.flatten().shape)\n",
    "\n",
    "# arrays reshape\n",
    "# flatten => return a copy of the array collapsed into one dimension\n",
    "# reshape => reshapes an array without changing the data of the array\n",
    "train_images = train_images.flatten().reshape(8000, 768) #6144000 / 768, 16 * 16 * 3\n",
    "test_images = test_images.flatten().reshape(2819, 768) #2164992 / 768, 16 * 16 * 3 \n",
    "validation_images = validation_images.flatten().reshape(8000, 768) #6144000 / 768, 16 * 16 * 3\n"
   ]
  },
  {
   "cell_type": "code",
   "execution_count": 27,
   "id": "ff06fbba-f1f9-4c54-9d07-c6019a9a84fe",
   "metadata": {},
   "outputs": [],
   "source": [
    "# lab 4 ai\n",
    "\n",
    "# accuracy calculator function\n",
    "#taken from the lab\n",
    "def acc_calculator(true_labels, predicted_labels):\n",
    "    return (true_labels == predicted_labels).mean()\n",
    "\n",
    "#taken from the lab\n",
    "def normalize(train_images, test_images, type = None):\n",
    "    scaler = preprocessing.Normalizer(norm = 'l2')\n",
    "    scaler.fit(train_images)\n",
    "    scaler_train = scaler.transform(train_images)\n",
    "    scaler_test = scaler.transform(test_images)\n",
    "    return scaler_train, scaler_test"
   ]
  },
  {
   "cell_type": "code",
   "execution_count": 28,
   "id": "ce950ffe-d162-4250-88d1-cc534e88e04c",
   "metadata": {},
   "outputs": [],
   "source": [
    "#normalize in norm l2\n",
    "scaled_train, scaled_test = normalize(train_images, validation_images, type = 'l2')\n",
    "\n",
    "# print(scaled_train, scaled_test, sep = '\\n\\n\\n\\n')"
   ]
  },
  {
   "cell_type": "code",
   "execution_count": 29,
   "id": "0c22c32d-d910-4981-9f6c-273390988c59",
   "metadata": {},
   "outputs": [
    {
     "name": "stdout",
     "output_type": "stream",
     "text": [
      "0.944375\n"
     ]
    }
   ],
   "source": [
    "svm_clsf = svm.SVC(C = 0.9, kernel = 'poly')\n",
    "\n",
    "# print(svm_clsf)\n",
    "\n",
    "svm_clsf.fit(scaled_train, train_labels) #train svm_clsf\n",
    "\n",
    "predict = svm_clsf.predict(scaled_test) #prediction based on scaled_test\n",
    "\n",
    "accuracy = acc_calculator(validation_labels, predict) #calculate the accuracy\n",
    "\n",
    "print(accuracy)"
   ]
  },
  {
   "cell_type": "code",
   "execution_count": 30,
   "id": "ec60d8fe-a765-4ad6-b229-443a4d75c715",
   "metadata": {},
   "outputs": [],
   "source": [
    "test_file = open(\"test.txt\", 'r') #read file test\n",
    "test_file_lines = test_file.readlines() #lines from test\n",
    "\n",
    "write_file = open(\"svm_file.csv\", 'w') #write into file\n",
    "write_file.write(\"id,label\\n\") #append the first row\n",
    "for i in range(1, len(test_file_lines)):\n",
    "    # print(test_file_lines[i], len(test_file_lines[i]))\n",
    "    if len(test_file_lines[i]) == 20:\n",
    "        write_file.write(f\"{test_file_lines[i][:-1]},{predict[i]}\\n\") #append to file without '\\n'\n",
    "    else:\n",
    "        write_file.write(f\"{test_file_lines[i]},{predict[i]}\\n\") #append to file no '\\n'\n",
    "\n",
    "write_file.close() #close write"
   ]
  },
  {
   "cell_type": "code",
   "execution_count": null,
   "id": "49e5be8f-836e-4646-8e2b-4ef7433c4858",
   "metadata": {},
   "outputs": [],
   "source": []
  }
 ],
 "metadata": {
  "kernelspec": {
   "display_name": "Python 3 (ipykernel)",
   "language": "python",
   "name": "python3"
  },
  "language_info": {
   "codemirror_mode": {
    "name": "ipython",
    "version": 3
   },
   "file_extension": ".py",
   "mimetype": "text/x-python",
   "name": "python",
   "nbconvert_exporter": "python",
   "pygments_lexer": "ipython3",
   "version": "3.10.2"
  }
 },
 "nbformat": 4,
 "nbformat_minor": 5
}
