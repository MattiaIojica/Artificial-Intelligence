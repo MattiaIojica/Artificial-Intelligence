{
 "cells": [
  {
   "cell_type": "code",
   "execution_count": 13,
   "id": "d2d4e337-b705-4d6e-bfd1-48e41cc70087",
   "metadata": {},
   "outputs": [],
   "source": [
    "import numpy as np\n",
    "import matplotlib.image as mpimg\n",
    "import matplotlib.pyplot as plt\n",
    "from sklearn import svm\n",
    "from sklearn import preprocessing"
   ]
  },
  {
   "cell_type": "code",
   "execution_count": 14,
   "id": "5f9529af-3f38-4890-b077-926965172530",
   "metadata": {},
   "outputs": [],
   "source": [
    "train_images = []\n",
    "train_labels = []\n",
    "test_images = []\n",
    "validation_images = []\n",
    "validation_labels = []\n",
    "\n",
    "train_file = open(\"train.txt\", 'r') #read file train\n",
    "test_file = open(\"test.txt\", 'r') #read file test\n",
    "validation_file = open(\"validation.txt\", 'r') #read file validation\n",
    "train_file_lines = train_file.readlines() #lines from train\n",
    "test_file_lines = test_file.readlines() #lines from test\n",
    "\n",
    "\n",
    "for i in range(1, len(train_file_lines)):\n",
    "    code, lab = train_file_lines[i].split(',') #split line by ','\n",
    "    image = mpimg.imread('./train+validation/' + code)#read the image\n",
    "    # print(image)\n",
    "    train_images.append(image) #append the image\n",
    "    train_labels.append(lab[0]) #lab[0] => without '\\n'\n",
    "train_file.close() #close train\n",
    "# print(train_images[0])\n",
    "\n",
    "for i in range(1, len(test_file_lines)):\n",
    "    code = test_file_lines[i].strip('\\n') #removes '\\n'\n",
    "    image = mpimg.imread('./test/' + code) #read the image\n",
    "    #print(image)\n",
    "    test_images.append(image) #append the image\n",
    "test_file.close() #close test\n",
    "# print(test_images[0])\n",
    "\n",
    "for i in range(1, len(train_file_lines)):\n",
    "    code, lab = train_file_lines[i].split(',') #split line by ','\n",
    "    image = mpimg.imread('./train+validation/' + code) #read the image\n",
    "    # print(image)\n",
    "    validation_images.append(image) #append the image\n",
    "    validation_labels.append(lab[0]) #lab[0] => without '\\n'\n",
    "validation_file.close() #close validation\n",
    "# print(validation_images[0])"
   ]
  },
  {
   "cell_type": "code",
   "execution_count": 15,
   "id": "22c78870-eacb-4af6-975a-8156ede76eef",
   "metadata": {},
   "outputs": [],
   "source": [
    "#transform lists into np arrays\n",
    "train_images = np.array(train_images)\n",
    "test_images = np.array(test_images)\n",
    "validation_images = np.array(validation_images)\n",
    "\n",
    "# print(train_images.flatten().shape)\n",
    "# print(test_images.flatten().shape)\n",
    "# print(validation_images.flatten().shape)\n",
    "\n",
    "# arrays reshape\n",
    "# flatten => return a copy of the array collapsed into one dimension\n",
    "# reshape => reshapes an array without changing the data of the array\n",
    "train_images = train_images.flatten().reshape(8000, 768) #6144000 / 768, 16 * 16 * 3\n",
    "test_images = test_images.flatten().reshape(2819, 768) #2164992 / 768, 16 * 16 * 3 \n",
    "validation_images = validation_images.flatten().reshape(8000, 768) #6144000 / 768, 16 * 16 * 3\n",
    "\n",
    "#convert elements to int\n",
    "test_images = test_images.astype(int)\n",
    "train_images = train_images.astype(int)\n",
    "train_labels = np.array(train_labels).astype(int)\n",
    "\n",
    "# validation_labels = np.array(validation_labels).astype(int)\n",
    "\n",
    "# validation_labels\n",
    "# train_labels"
   ]
  },
  {
   "cell_type": "code",
   "execution_count": 16,
   "id": "2953d530",
   "metadata": {},
   "outputs": [],
   "source": [
    "# lab 3 ai\n",
    "\n",
    "# accuracy calculator function\n",
    "#taken from the lab\n",
    "def accuracy_score(true_labels, predicted_labels):\n",
    "    return (true_labels == predicted_labels).mean()\n",
    "\n",
    "#taken from the lab\n",
    "# K-Nearest Neighbors - method\n",
    "class Knn_classifier:\n",
    "\n",
    "    def __init__(self, train_images, train_labels):\n",
    "        self.train_images = train_images\n",
    "        self.train_labels = train_labels\n",
    "\n",
    "    def classify_image(self, test_image, num_neighbors = 3, metric = 'l2'): \n",
    "\n",
    "        if(metric == 'l2'):\n",
    "            distances = np.sqrt(np.sum((self.train_images - test_image) ** 2, axis = 1))\n",
    "        elif(metric == 'l1'):\n",
    "            distances = np.sum(abs(self.train_images - test_image), axis = 1)\n",
    "        else:\n",
    "            print('Error! Metric {} is not defined!'.format(metric))\n",
    "\n",
    "        sort_index = np.argsort(distances) #returns the indexes that sort the array\n",
    "        sort_index = sort_index[:num_neighbors]\n",
    "        nearest_labels = self.train_labels[sort_index]\n",
    "        histc = np.bincount(nearest_labels) #return the frequency of every value\n",
    "\n",
    "        return np.argmax(histc)\n",
    "\n",
    "\n",
    "    def classify_images(self, test_images, num_neighbors = 3, metric = 'l2'):\n",
    "        num_test_images = test_images.shape[0] \n",
    "        predicted_labels = np.zeros((num_test_images))\n",
    "\n",
    "        for i in range(num_test_images): \n",
    "            predicted_labels[i] = self.classify_image(test_images[i, :], num_neighbors = num_neighbors, metric = metric)\n",
    "\n",
    "        return predicted_labels"
   ]
  },
  {
   "cell_type": "code",
   "execution_count": 17,
   "id": "c883204e-dd5d-47be-8168-fe1d20ae9905",
   "metadata": {},
   "outputs": [],
   "source": [
    "classifier = Knn_classifier(train_images, train_labels)"
   ]
  },
  {
   "cell_type": "code",
   "execution_count": null,
   "id": "9e3cc4a9-4c04-48d0-897d-9e26e9128568",
   "metadata": {},
   "outputs": [],
   "source": [
    "# test_images = test_images.astype(int)\n",
    "# type(test_images)\n",
    "\n",
    "predicted_labels = classifier.classify_images(validation_images, 3, 'l2')"
   ]
  },
  {
   "cell_type": "code",
   "execution_count": null,
   "id": "a9008324-0231-4453-a85c-31c968e65b86",
   "metadata": {},
   "outputs": [],
   "source": [
    "# predicted_labels\n",
    "# validation_labels"
   ]
  },
  {
   "cell_type": "code",
   "execution_count": null,
   "id": "515cc6d5-4f7f-4880-8450-cf1e48337b58",
   "metadata": {},
   "outputs": [],
   "source": [
    "# for i in range(0, len(validation_labels)):\n",
    "#     validation_labels[i] = int(validation_labels[i])\n",
    "# # print(validation_labels)\n",
    "\n",
    "#convert elements to int\n",
    "predicted_labels = predicted_labels.astype(int)\n",
    "\n",
    "#convert list into np array of int\n",
    "validation_labels = np.array(validation_labels).astype(int)"
   ]
  },
  {
   "cell_type": "code",
   "execution_count": null,
   "id": "bf3e2b85-80e0-4092-a319-fbf32c5d578b",
   "metadata": {
    "tags": []
   },
   "outputs": [],
   "source": [
    "# print(validation_labels, predicted_labels)\n",
    "\n",
    "# accuracy calculator\n",
    "accuracy_a = accuracy_score(validation_labels, predicted_labels)\n",
    "print(accuracy_a)"
   ]
  },
  {
   "cell_type": "code",
   "execution_count": null,
   "id": "6b284f0d-725f-4d83-ab57-715ace4eda5d",
   "metadata": {},
   "outputs": [],
   "source": [
    "test_file = open(\"test.txt\", 'r') #read file test\n",
    "test_file_lines = test_file.readlines() #lines from test\n",
    "\n",
    "write_file = open(\"knn_file.csv\", 'w') #write into file\n",
    "write_file.write(\"id,label\\n\") #append the first row\n",
    "for i in range(1, len(test_file_lines)):\n",
    "    # print(test_file_lines[i], len(test_file_lines[i]))\n",
    "    if len(test_file_lines[i]) == 20:\n",
    "        write_file.write(f\"{test_file_lines[i][:-1]},{predicted_labels[i]}\\n\") #append to file without '\\n'\n",
    "    else:\n",
    "        write_file.write(f\"{test_file_lines[i]},{predicted_labels[i]}\\n\") #append to file no '\\n'\n",
    "\n",
    "write_file.close() #close write"
   ]
  },
  {
   "cell_type": "code",
   "execution_count": null,
   "id": "3495bcac-f342-4dcf-894c-b70bb09bf0cf",
   "metadata": {},
   "outputs": [],
   "source": []
  }
 ],
 "metadata": {
  "kernelspec": {
   "display_name": "Python 3 (ipykernel)",
   "language": "python",
   "name": "python3"
  },
  "language_info": {
   "codemirror_mode": {
    "name": "ipython",
    "version": 3
   },
   "file_extension": ".py",
   "mimetype": "text/x-python",
   "name": "python",
   "nbconvert_exporter": "python",
   "pygments_lexer": "ipython3",
   "version": "3.10.2"
  }
 },
 "nbformat": 4,
 "nbformat_minor": 5
}
