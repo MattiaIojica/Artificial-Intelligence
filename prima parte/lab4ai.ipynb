{
 "cells": [
  {
   "cell_type": "code",
   "execution_count": 1,
   "id": "44af4e63-03e5-4aa0-87d0-f84d34cc4aed",
   "metadata": {},
   "outputs": [],
   "source": [
    "import numpy as np\n",
    "from sklearn import svm\n",
    "from sklearn import preprocessing"
   ]
  },
  {
   "cell_type": "code",
   "execution_count": 2,
   "id": "d893613f-c620-4ca1-8717-d3a37226fc7b",
   "metadata": {},
   "outputs": [
    {
     "data": {
      "text/plain": [
       "'1.22.2'"
      ]
     },
     "execution_count": 2,
     "metadata": {},
     "output_type": "execute_result"
    }
   ],
   "source": [
    "# kernel - 'linear', 'rbf'\n",
    "# svm - support vector machine\n",
    "# C - penalty error\n",
    "\n",
    "\n",
    "np.__version__"
   ]
  },
  {
   "cell_type": "code",
   "execution_count": 3,
   "id": "803bb11e-05e6-4d9d-a28d-4a6767dc6d5f",
   "metadata": {},
   "outputs": [],
   "source": [
    "def accuracy_score(true_labels, predicted_labels):\n",
    "    return (true_labels == predicted_labels).mean()\n",
    "\n",
    "def normalize_data(train_data, test_data, type= None):\n",
    "    if type == 'standard':\n",
    "        scaler = preprocessing.StandardScaler()\n",
    "    elif type == 'l1':\n",
    "        scaler = preprocessing.Normalizer(norm = 'l1')\n",
    "    elif type == 'l2':\n",
    "        scaler = preprocessing.Normalizer(norm = 'l2')\n",
    "    \n",
    "    if type is None:\n",
    "        return train_data, test_data\n",
    "    else:\n",
    "        scaler.fit(train_data)\n",
    "        scaler_train = scaler.transform(train_data)\n",
    "        scaler_test = scaler.transform(test_data)\n",
    "        return scaler_train, scaler_test"
   ]
  },
  {
   "cell_type": "code",
   "execution_count": 4,
   "id": "3b199223-c3d3-43d2-8965-017b2cf7642b",
   "metadata": {},
   "outputs": [
    {
     "name": "stdout",
     "output_type": "stream",
     "text": [
      "[0 0 1 ... 0 0 0]\n",
      "[list(['Probably', 'not', 'still', 'going', 'over', 'some', 'stuff', 'here'])\n",
      " list(['I', 'HAVE', 'A', 'DATE', 'ON', 'SUNDAY', 'WITH', 'WILL'])\n",
      " list(['Thanks', '4', 'your', 'continued', 'support', 'Your', 'question', 'this', 'week', 'will', 'enter', 'u', 'in2', 'our', 'draw', '4', 'Â£100', 'cash', 'Name', 'the', 'NEW', 'US', 'President', 'txt', 'ans', 'to', '80082'])\n",
      " ...\n",
      " list(['OH', 'FUCK', 'JUSWOKE', 'UP', 'IN', 'A', 'BED', 'ON', 'A', 'BOATIN', 'THE', 'DOCKS', 'SLEPT', 'WID', '25', 'YEAR', 'OLD', 'SPINOUT', 'GIV', 'U', 'DA', 'GOSSIP', 'L8R', 'XXX'])\n",
      " list(['NOT', 'MUCH', 'NO', 'FIGHTS', 'IT', 'WAS', 'A', 'GOOD', 'NITE'])\n",
      " list(['Did', 'he', 'just', 'say', 'somebody', 'is', 'named', 'tampa'])]\n"
     ]
    }
   ],
   "source": [
    "train_data = np.load('data/training_sentences.npy', allow_pickle = True)\n",
    "train_labels = np.load('data/training_labels.npy', allow_pickle = True)\n",
    "test_data = np.load('data/test_sentences.npy', allow_pickle = True)\n",
    "test_labels = np.load('data/test_labels.npy', allow_pickle = True)\n",
    "\n",
    "print(train_labels)\n",
    "print(train_data)"
   ]
  },
  {
   "cell_type": "code",
   "execution_count": 5,
   "id": "1c38e24c-4f93-496e-a937-598923901d0c",
   "metadata": {},
   "outputs": [
    {
     "data": {
      "text/plain": [
       "9522"
      ]
     },
     "execution_count": 5,
     "metadata": {},
     "output_type": "execute_result"
    }
   ],
   "source": [
    "class BagOfWords:\n",
    "    def __init__(self):\n",
    "        self.voc = dict()\n",
    "    \n",
    "    def get_voc(self, train_data):\n",
    "        for doc in train_data:\n",
    "            for word in doc:\n",
    "                if word not in self.voc:\n",
    "                    self.voc[word] = len(self.voc)\n",
    "    \n",
    "    def get_features(self, data):\n",
    "        features = np.zeros((len(data), len(self.voc)))\n",
    "        for i, doc in enumerate(data):\n",
    "            for word in doc:\n",
    "                if word in self.voc:\n",
    "                    features[i, self.voc[word]] += 1\n",
    "        return features\n",
    "                    \n",
    "        \n",
    "\n",
    "bow = BagOfWords()\n",
    "bow.get_voc(train_data) \n",
    "                            \n",
    "len(bow.voc)"
   ]
  },
  {
   "cell_type": "code",
   "execution_count": 6,
   "id": "70870d9f-bdbb-4f85-8330-95b5ef9c4126",
   "metadata": {},
   "outputs": [
    {
     "name": "stdout",
     "output_type": "stream",
     "text": [
      "(3734, 9522) (1840, 9522)\n"
     ]
    }
   ],
   "source": [
    "x_train = bow.get_features(train_data)\n",
    "x_test = bow.get_features(test_data)\n",
    "\n",
    "print(x_train.shape, x_test.shape)"
   ]
  },
  {
   "cell_type": "code",
   "execution_count": 7,
   "id": "9314bbd7-c47b-48f0-a08e-f32546a1a660",
   "metadata": {},
   "outputs": [
    {
     "name": "stdout",
     "output_type": "stream",
     "text": [
      "[[0.35355339 0.35355339 0.35355339 ... 0.         0.         0.        ]\n",
      " [0.         0.         0.         ... 0.         0.         0.        ]\n",
      " [0.         0.         0.         ... 0.         0.         0.        ]\n",
      " ...\n",
      " [0.         0.         0.         ... 0.19611614 0.19611614 0.        ]\n",
      " [0.         0.         0.         ... 0.         0.         0.33333333]\n",
      " [0.         0.         0.         ... 0.         0.         0.        ]]\n",
      "\n",
      "\n",
      "\n",
      "[[0.  0.  0.5 ... 0.  0.  0. ]\n",
      " [0.  0.  0.  ... 0.  0.  0. ]\n",
      " [0.  0.  0.  ... 0.  0.  0. ]\n",
      " ...\n",
      " [0.  0.  0.  ... 0.  0.  0. ]\n",
      " [0.  0.  0.  ... 0.  0.  0. ]\n",
      " [0.  0.  0.  ... 0.  0.  0. ]]\n"
     ]
    }
   ],
   "source": [
    "scaled_train, scaled_test = normalize_data(x_train, x_test, type = 'l2')\n",
    "\n",
    "print(scaled_train, scaled_test, sep = '\\n\\n\\n\\n')"
   ]
  },
  {
   "cell_type": "code",
   "execution_count": 8,
   "id": "5b5c3b87-0555-4e72-8ca7-ade13b303572",
   "metadata": {},
   "outputs": [
    {
     "name": "stdout",
     "output_type": "stream",
     "text": [
      "0.9842391304347826\n"
     ]
    }
   ],
   "source": [
    "svm_classifier = svm.SVC(C = 1, kernel = 'linear')\n",
    "\n",
    "svm_classifier.fit(scaled_train, train_labels)\n",
    "\n",
    "predicted = svm_classifier.predict(scaled_test)\n",
    "\n",
    "acc = accuracy_score(test_labels, predicted)\n",
    "\n",
    "print(acc)"
   ]
  },
  {
   "cell_type": "code",
   "execution_count": null,
   "id": "869ce491-9425-4ae5-a960-063a0106167e",
   "metadata": {},
   "outputs": [],
   "source": []
  }
 ],
 "metadata": {
  "kernelspec": {
   "display_name": "Python 3 (ipykernel)",
   "language": "python",
   "name": "python3"
  },
  "language_info": {
   "codemirror_mode": {
    "name": "ipython",
    "version": 3
   },
   "file_extension": ".py",
   "mimetype": "text/x-python",
   "name": "python",
   "nbconvert_exporter": "python",
   "pygments_lexer": "ipython3",
   "version": "3.10.2"
  }
 },
 "nbformat": 4,
 "nbformat_minor": 5
}
