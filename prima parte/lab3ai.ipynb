{
 "cells": [
  {
   "cell_type": "code",
   "execution_count": 56,
   "id": "f444defd-8994-456d-8738-bba3fbfa7974",
   "metadata": {},
   "outputs": [],
   "source": [
    "import numpy as np\n",
    "import matplotlib.pyplot as plt\n",
    "\n",
    "def accuracy_score(true_labels, predicted_labels):\n",
    "    return (true_labels == predicted_labels).mean()\n",
    "\n",
    "# a = [True, True, False]\n",
    "# b = [False, True, True]\n",
    "\n",
    "class Knn_classifier:\n",
    "\n",
    "    def __init__(self, train_images, train_labels):\n",
    "        self.train_images = train_images\n",
    "        self.train_labels = train_labels\n",
    "\n",
    "    def classify_image(self, test_image, num_neighbors = 3, metric = 'l2'): \n",
    "\n",
    "        if(metric == 'l2'):\n",
    "            distances = np.sqrt(np.sum((self.train_images - test_image) ** 2, axis = 1))\n",
    "        elif(metric == 'l1'):\n",
    "            distances = np.sum(abs(self.train_images - test_image), axis = 1)\n",
    "        else:\n",
    "            print('Error! Metric {} is not defined!'.format(metric))\n",
    "\n",
    "        sort_index = np.argsort(distances)\n",
    "        sort_index = sort_index[:num_neighbors]\n",
    "        nearest_labels = self.train_labels[sort_index]\n",
    "        histc = np.bincount(nearest_labels)\n",
    "\n",
    "        return np.argmax(histc)\n",
    "\n",
    "\n",
    "    def classify_images(self, test_images, num_neighbors = 3, metric = 'l2'):\n",
    "        num_test_images = test_images.shape[0] \n",
    "        predicted_labels = np.zeros((num_test_images))\n",
    "\n",
    "        for i in range(num_test_images): \n",
    "            predicted_labels[i] = self.classify_image(test_images[i, :], num_neighbors = num_neighbors, metric = metric)\n",
    "\n",
    "        return predicted_labels"
   ]
  },
  {
   "cell_type": "code",
   "execution_count": 57,
   "id": "0f94e0d9-ed1e-469f-b7a4-ad50cbcf30a2",
   "metadata": {},
   "outputs": [],
   "source": [
    "train_images = np.loadtxt('data/train_images.txt')\n",
    "train_labels = np.loadtxt('data/train_labels.txt')\n",
    "train_labels = train_labels.astype(int)\n",
    "\n",
    "test_images = np.loadtxt('data/test_images.txt')\n",
    "test_labels = np.loadtxt('data/test_labels.txt')\n",
    "test_labels = test_labels.astype(int)\n"
   ]
  },
  {
   "cell_type": "code",
   "execution_count": 58,
   "id": "f6938277-e014-4ab7-9e14-3c7ca24d3c1e",
   "metadata": {},
   "outputs": [],
   "source": [
    "classifier = Knn_classifier(train_images, train_labels)"
   ]
  },
  {
   "cell_type": "code",
   "execution_count": 59,
   "id": "2e3b411e-1520-43c0-8b39-8924772436a3",
   "metadata": {},
   "outputs": [],
   "source": [
    "predicted_labels = classifier.classify_images(test_images, 3, 'l2')"
   ]
  },
  {
   "cell_type": "code",
   "execution_count": null,
   "id": "237f58c1-f368-488e-a56e-6450c45b97cb",
   "metadata": {},
   "outputs": [
    {
     "data": {
      "text/plain": [
       "0.898"
      ]
     },
     "execution_count": 60,
     "metadata": {},
     "output_type": "execute_result"
    }
   ],
   "source": [
    "accuracy = accuracy_score(test_labels, predicted_labels)\n",
    "accuracy"
   ]
  },
  {
   "cell_type": "code",
   "execution_count": 61,
   "id": "b0004e19-fd2b-4f23-b1a1-da0863aa2945",
   "metadata": {},
   "outputs": [
    {
     "name": "stdout",
     "output_type": "stream",
     "text": [
      "k: 1, accuracy: 0.884\n",
      "k: 3, accuracy: 0.898\n",
      "k: 5, accuracy: 0.896\n",
      "k: 7, accuracy: 0.88\n",
      "k: 9, accuracy: 0.88\n",
      "k: 11, accuracy: 0.872\n"
     ]
    }
   ],
   "source": [
    "k_list = [1,3,5,7,9,11]\n",
    "l2_acc = []\n",
    "for k in k_list:\n",
    "    classifier = Knn_classifier(train_images, train_labels)\n",
    "    predicted_labels = classifier.classify_images(test_images, k, 'l2')\n",
    "    accuracy = accuracy_score(test_labels, predicted_labels)\n",
    "    l2_acc.append(accuracy)\n",
    "    print(\"k: {}, accuracy: {}\".format(k, accuracy))\n",
    "    \n",
    "l2_acc = np.array(l2_acc)\n",
    "np.savetxt('l2_acc.txt', l2_acc)\n"
   ]
  },
  {
   "cell_type": "code",
   "execution_count": 62,
   "id": "b5d23a36-bba4-490e-a43a-43dcc2a38c22",
   "metadata": {},
   "outputs": [
    {
     "name": "stdout",
     "output_type": "stream",
     "text": [
      "k: 1, accuracy: 0.88\n",
      "k: 3, accuracy: 0.884\n",
      "k: 5, accuracy: 0.868\n",
      "k: 7, accuracy: 0.864\n",
      "k: 9, accuracy: 0.864\n",
      "k: 11, accuracy: 0.856\n"
     ]
    }
   ],
   "source": [
    "k_list = [1,3,5,7,9,11]\n",
    "l1_acc = []\n",
    "for k in k_list:\n",
    "    classifier = Knn_classifier(train_images, train_labels)\n",
    "    predicted_labels = classifier.classify_images(test_images, k, 'l1')\n",
    "    accuracy = accuracy_score(test_labels, predicted_labels)\n",
    "    l1_acc.append(accuracy)\n",
    "    print(\"k: {}, accuracy: {}\".format(k, accuracy))\n",
    "    \n",
    "l1_acc = np.array(l1_acc)\n",
    "np.savetxt('l1_acc.txt', l1_acc)\n"
   ]
  },
  {
   "cell_type": "code",
   "execution_count": 64,
   "id": "7c4f8a01-98f4-4b43-9878-4ad16c2a87e5",
   "metadata": {},
   "outputs": [
    {
     "data": {
      "image/png": "[encoded data removed]",
      "text/plain": [
       "<Figure size 432x288 with 1 Axes>"
      ]
     },
     "metadata": {
      "needs_background": "light"
     },
     "output_type": "display_data"
    }
   ],
   "source": [
    "l1 = np.loadtxt('l1_acc.txt')\n",
    "l2 = np.loadtxt('l2_acc.txt')\n",
    "\n",
    "plt.plot(k_list, l1)\n",
    "plt.plot(k_list, l2)\n",
    "plt.legend(['L1', 'L2'])\n",
    "plt.show()"
   ]
  },
  {
   "cell_type": "code",
   "execution_count": null,
   "id": "b0d71b04-bb23-4af0-91bc-5d01a30dd8de",
   "metadata": {},
   "outputs": [],
   "source": []
  }
 ],
 "metadata": {
  "kernelspec": {
   "display_name": "Python 3 (ipykernel)",
   "language": "python",
   "name": "python3"
  },
  "language_info": {
   "codemirror_mode": {
    "name": "ipython",
    "version": 3
   },
   "file_extension": ".py",
   "mimetype": "text/x-python",
   "name": "python",
   "nbconvert_exporter": "python",
   "pygments_lexer": "ipython3",
   "version": "3.10.2"
  }
 },
 "nbformat": 4,
 "nbformat_minor": 5
}
