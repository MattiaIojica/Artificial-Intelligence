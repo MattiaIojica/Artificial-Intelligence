{
 "cells": [
  {
   "cell_type": "code",
   "execution_count": 18,
   "id": "644ad6cb-fd94-4f53-af8e-820519b997de",
   "metadata": {},
   "outputs": [],
   "source": [
    "import numpy as np\n",
    "from sklearn.linear_model import LinearRegression, Ridge, Lasso\n",
    "from sklearn.preprocessing import StandardScaler\n",
    "linear_regression_model = LinearRegression()\n",
    "ridge_regression_model = Ridge(alpha=1)\n",
    "lasso_regression_model = Lasso(alpha=1)"
   ]
  },
  {
   "cell_type": "code",
   "execution_count": 19,
   "id": "9f8a4bbc-ba0b-41a5-a5a5-9d42139a8575",
   "metadata": {},
   "outputs": [],
   "source": [
    "# # calcularea valorii MSE și MAE\n",
    "from sklearn.metrics import mean_squared_error, mean_absolute_error\n",
    "# mse_value = mean_squared_error(y_true, y_pred)\n",
    "# mae_value = mean_absolute_error(y_true, y_pred)"
   ]
  },
  {
   "cell_type": "code",
   "execution_count": 20,
   "id": "bb7ec004-4a3c-4d23-8c2e-be477592c8d8",
   "metadata": {},
   "outputs": [
    {
     "name": "stdout",
     "output_type": "stream",
     "text": [
      "The first 4 samples are:\n",
      "  [[2.0150e+03 4.1000e+04 1.9670e+01 1.5820e+03 1.2620e+02 5.0000e+00\n",
      "  1.0000e+00 0.0000e+00 1.0000e+00 0.0000e+00 0.0000e+00 0.0000e+00\n",
      "  1.0000e+00 0.0000e+00]\n",
      " [2.0110e+03 4.6000e+04 1.8200e+01 1.1990e+03 8.8700e+01 5.0000e+00\n",
      "  1.0000e+00 0.0000e+00 0.0000e+00 1.0000e+00 0.0000e+00 0.0000e+00\n",
      "  1.0000e+00 0.0000e+00]\n",
      " [2.0120e+03 8.7000e+04 2.0770e+01 1.2480e+03 8.8760e+01 7.0000e+00\n",
      "  1.0000e+00 0.0000e+00 1.0000e+00 0.0000e+00 0.0000e+00 0.0000e+00\n",
      "  1.0000e+00 0.0000e+00]\n",
      " [2.0130e+03 8.6999e+04 2.3080e+01 1.4610e+03 6.3100e+01 5.0000e+00\n",
      "  1.0000e+00 0.0000e+00 1.0000e+00 0.0000e+00 0.0000e+00 0.0000e+00\n",
      "  1.0000e+00 0.0000e+00]]\n",
      "The first 4 prices are:\n",
      "  [12.5  4.5  6.   3.5]\n"
     ]
    }
   ],
   "source": [
    "import numpy as np\n",
    "from sklearn.utils import shuffle\n",
    "# load training data\n",
    "training_data = np.load('data/training_data.npy')\n",
    "prices = np.load('data/prices.npy')\n",
    "# print the first 4 samples\n",
    "print('The first 4 samples are:\\n ', training_data[:4])\n",
    "print('The first 4 prices are:\\n ', prices[:4])\n",
    "# shuffle\n",
    "training_data, prices = shuffle(training_data, prices, random_state=0)"
   ]
  },
  {
   "cell_type": "code",
   "execution_count": 21,
   "id": "605b7009-8668-4f00-a4f5-eca9ffe05f3e",
   "metadata": {},
   "outputs": [],
   "source": [
    "def normalize_data(training_data, testing_data, type= None):\n",
    "    scaler = StandardScaler()\n",
    "    scaler.fit(training_data)\n",
    "    scaler_train_data = scaler.transform(training_data)\n",
    "    \n",
    "    if testing_data is None:\n",
    "        return scaler_train_data\n",
    "    \n",
    "    scaler_test_data = scaler.transform(testing_data)\n",
    "    return scaler_train_data, scaler_test_data"
   ]
  },
  {
   "cell_type": "code",
   "execution_count": 22,
   "id": "98775a44-a1d7-45ec-addd-80d778357729",
   "metadata": {},
   "outputs": [],
   "source": [
    "num_samples_per_fold = len(training_data) // 3\n",
    "\n",
    "training_data1, prices1 = training_data[:num_samples_per_fold], prices[:num_samples_per_fold]\n",
    "\n",
    "training_data2, prices2 = training_data[num_samples_per_fold: 2 * num_samples_per_fold], prices[num_samples_per_fold:2*num_samples_per_fold]\n",
    "\n",
    "training_data3, prices3 = training_data[2*num_samples_per_fold:], prices[2*num_samples_per_fold:]"
   ]
  },
  {
   "cell_type": "code",
   "execution_count": 23,
   "id": "3475230b-969c-4e33-b820-73a50843463a",
   "metadata": {},
   "outputs": [],
   "source": [
    "def train_test(x_train, y_train, x_test, y_test):\n",
    "    scaled_train_data, scaled_test_data = normalize_data(x_train, x_test)\n",
    "    model = LinearRegression()\n",
    "    model.fit(scaled_train_data, y_train)\n",
    "    y_pred = model.predict(x_test)\n",
    "    mse = mean_squared_error(y_pred, y_test)\n",
    "    mae = mean_absolute_error(y_pred, y_test)\n",
    "    return mse, mae"
   ]
  },
  {
   "cell_type": "code",
   "execution_count": 29,
   "id": "dc118aad-f744-4989-b0a4-9490d731beb7",
   "metadata": {},
   "outputs": [],
   "source": [
    "mse_1, mae_1 = train_test(np.concatenate((training_data1, training_data2)), np.concatenate((prices1, prices2)), training_data3, prices3)\n",
    "mse_2, mae_2 = train_test(np.concatenate((training_data1, training_data3)), np.concatenate((prices1, prices3)), training_data2, prices2)\n",
    "mse_3, mae_3 = train_test(np.concatenate((training_data2, training_data3)), np.concatenate((prices2, prices3)), training_data1, prices1)"
   ]
  },
  {
   "cell_type": "code",
   "execution_count": 30,
   "id": "1293a5e0-2176-4b23-8a58-297d3bbd236c",
   "metadata": {},
   "outputs": [
    {
     "name": "stdout",
     "output_type": "stream",
     "text": [
      "Mean MS = 65316421.333333336\n"
     ]
    }
   ],
   "source": [
    "print(\"Mean MS =\", (mse_1 + mse_2 + mse_3)/3)"
   ]
  },
  {
   "cell_type": "code",
   "execution_count": 31,
   "id": "ac492205-daef-4833-ab90-5ba2eaec0feb",
   "metadata": {},
   "outputs": [
    {
     "name": "stdout",
     "output_type": "stream",
     "text": [
      "Mean MS = 5505.872395833333\n"
     ]
    }
   ],
   "source": [
    "print(\"Mean MS =\", (mae_1 + mae_2 + mae_3)/3)"
   ]
  },
  {
   "cell_type": "code",
   "execution_count": 32,
   "id": "bc311547-e73c-4956-bd66-a47500466bf9",
   "metadata": {},
   "outputs": [
    {
     "name": "stdout",
     "output_type": "stream",
     "text": [
      "3.1752996 1.3207695\n",
      "3.2212272 1.331149\n",
      "3.1058664 1.3068019\n",
      "\n",
      "3.1752465 1.3206646\n",
      "3.2218485 1.3309039\n",
      "3.1048813 1.3065406\n",
      "\n",
      "3.179631 1.3206303\n",
      "3.2335649 1.3299665\n",
      "3.10373 1.3051705\n",
      "\n",
      "3.179631 1.3206303\n",
      "3.2335649 1.3299665\n",
      "3.10373 1.3051705\n",
      "\n"
     ]
    }
   ],
   "source": [
    "def train_test_ridge(x_train, y_train, x_test, y_test, alpha=1):\n",
    "    scaled_train_data, scaled_test_data = normalize_data(x_train, x_test, True)\n",
    "    model = Ridge(alpha)\n",
    "    model.fit(scaled_train_data, y_train)\n",
    "    y_pred = model.predict(scaled_test_data)\n",
    "    mse = mean_squared_error(y_pred, y_test)\n",
    "    mae = mean_absolute_error(y_pred, y_test)\n",
    "    return mse, mae\n",
    "\n",
    "for alpha in [1, 10, 100, 100]:\n",
    "    mse_1_ridge, mae_1_ridge = train_test_ridge(np.concatenate((training_data1, training_data2)), np.concatenate((prices1, prices2)), training_data3, prices3, alpha)\n",
    "    mse_2_ridge, mae_2_ridge = train_test_ridge(np.concatenate((training_data1, training_data3)), np.concatenate((prices1, prices3)), training_data2, prices2, alpha)\n",
    "    mse_3_ridge, mae_3_ridge = train_test_ridge(np.concatenate((training_data2, training_data3)), np.concatenate((prices2, prices3)), training_data1, prices1, alpha)\n",
    "    print(mse_1_ridge, mae_1_ridge)\n",
    "    print(mse_2_ridge, mae_2_ridge)\n",
    "    print(mse_3_ridge, mae_3_ridge)\n",
    "    print()"
   ]
  }
 ],
 "metadata": {
  "kernelspec": {
   "display_name": "Python 3 (ipykernel)",
   "language": "python",
   "name": "python3"
  },
  "language_info": {
   "codemirror_mode": {
    "name": "ipython",
    "version": 3
   },
   "file_extension": ".py",
   "mimetype": "text/x-python",
   "name": "python",
   "nbconvert_exporter": "python",
   "pygments_lexer": "ipython3",
   "version": "3.10.2"
  }
 },
 "nbformat": 4,
 "nbformat_minor": 5
}
