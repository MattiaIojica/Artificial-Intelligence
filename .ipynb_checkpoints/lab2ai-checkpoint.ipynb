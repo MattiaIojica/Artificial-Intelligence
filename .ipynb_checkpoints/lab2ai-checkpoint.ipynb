{
 "cells": [
  {
   "cell_type": "code",
   "execution_count": 30,
   "id": "6b4a524e",
   "metadata": {},
   "outputs": [
    {
     "data": {
      "image/png": "[encoded data removed]",
      "text/plain": [
       "<Figure size 432x288 with 1 Axes>"
      ]
     },
     "metadata": {
      "needs_background": "light"
     },
     "output_type": "display_data"
    }
   ],
   "source": [
    "import numpy as np\n",
    "import matplotlib.pyplot as plt\n",
    "train_images = np.loadtxt('data/train_images.txt') # incarcam imaginile\n",
    "train_labels = np.loadtxt('data/train_labels.txt', 'int') # incarcam etichetele avand\n",
    "test_images = np.loadtxt('data/test_images.txt')\n",
    "test_labels = np.loadtxt('data/test_labels.txt', 'int') # incarcam etichetele avand\n",
    " # tipul de date int\n",
    "image = train_images[0, :] # prima imagine\n",
    "image = np.reshape(image, (28, 28))\n",
    "plt.imshow(image.astype(np.uint8), cmap='gray')\n",
    "plt.show()"
   ]
  },
  {
   "cell_type": "code",
   "execution_count": 5,
   "id": "52b47f4b-7202-4edb-8a80-15516dfb3385",
   "metadata": {},
   "outputs": [
    {
     "data": {
      "text/plain": [
       "(1000, 784)"
      ]
     },
     "execution_count": 5,
     "metadata": {},
     "output_type": "execute_result"
    }
   ],
   "source": [
    "train_images.shape"
   ]
  },
  {
   "cell_type": "code",
   "execution_count": 6,
   "id": "93a4b9d0-d4d4-42eb-af04-9c1a28eb021c",
   "metadata": {},
   "outputs": [
    {
     "data": {
      "text/plain": [
       "array([  0.  ,  63.75, 127.5 , 191.25, 255.  ])"
      ]
     },
     "execution_count": 6,
     "metadata": {},
     "output_type": "execute_result"
    }
   ],
   "source": [
    "bins = np.linspace(0, 255, num = 5)\n",
    "bins"
   ]
  },
  {
   "cell_type": "code",
   "execution_count": 15,
   "id": "18aa2973-fefe-4350-93a8-739e51aec366",
   "metadata": {},
   "outputs": [
    {
     "data": {
      "text/plain": [
       "(1000, 784)"
      ]
     },
     "execution_count": 15,
     "metadata": {},
     "output_type": "execute_result"
    }
   ],
   "source": [
    "def values_to_bins(x, bins):\n",
    "    x = np.digitize(x, bins)\n",
    "    return x - 1"
   ]
  },
  {
   "cell_type": "code",
   "execution_count": 18,
   "id": "8ea92bb3-8626-4a5b-a86c-08910f398d7c",
   "metadata": {},
   "outputs": [],
   "source": [
    "x_train = values_to_bins(train_images, bins)\n",
    "x_test = values_to_bins(test_images, bins)"
   ]
  },
  {
   "cell_type": "code",
   "execution_count": 24,
   "id": "bde051b1-02e3-4346-b904-eb6853564731",
   "metadata": {},
   "outputs": [
    {
     "data": {
      "text/plain": [
       "(array([[0, 0, 0, ..., 0, 0, 0],\n",
       "        [0, 0, 0, ..., 0, 0, 0],\n",
       "        [0, 0, 0, ..., 0, 0, 0],\n",
       "        ...,\n",
       "        [0, 0, 0, ..., 0, 0, 0],\n",
       "        [0, 0, 0, ..., 0, 0, 0],\n",
       "        [0, 0, 0, ..., 0, 0, 0]], dtype=int64),\n",
       " array([[0, 0, 0, ..., 0, 0, 0],\n",
       "        [0, 0, 0, ..., 0, 0, 0],\n",
       "        [0, 0, 0, ..., 0, 0, 0],\n",
       "        ...,\n",
       "        [0, 0, 0, ..., 0, 0, 0],\n",
       "        [0, 0, 0, ..., 0, 0, 0],\n",
       "        [0, 0, 0, ..., 0, 0, 0]], dtype=int64))"
      ]
     },
     "execution_count": 24,
     "metadata": {},
     "output_type": "execute_result"
    }
   ],
   "source": [
    "x_train, x_test"
   ]
  },
  {
   "cell_type": "code",
   "execution_count": 25,
   "id": "c6068e4c-718a-43ef-b4da-e16f679013e2",
   "metadata": {},
   "outputs": [
    {
     "data": {
      "text/plain": [
       "array([0, 1, 2, 3, 4], dtype=int64)"
      ]
     },
     "execution_count": 25,
     "metadata": {},
     "output_type": "execute_result"
    }
   ],
   "source": [
    "np.unique(x_train)"
   ]
  },
  {
   "cell_type": "code",
   "execution_count": 26,
   "id": "df1555a2-3feb-4a8e-8814-3b281bab8e49",
   "metadata": {},
   "outputs": [
    {
     "data": {
      "text/plain": [
       "array([0, 1, 2, 3, 4], dtype=int64)"
      ]
     },
     "execution_count": 26,
     "metadata": {},
     "output_type": "execute_result"
    }
   ],
   "source": [
    "np.unique(x_test)"
   ]
  },
  {
   "cell_type": "code",
   "execution_count": 34,
   "id": "ff493ed5-2e4f-471e-b364-8cf90cf921ee",
   "metadata": {},
   "outputs": [
    {
     "data": {
      "text/plain": [
       "array([2, 7, 3, 1, 2, 2, 0, 8, 1, 4, 7, 3, 2, 0, 8, 3, 8, 9, 9, 1, 8, 2,\n",
       "       0, 0, 5, 9, 6, 2, 6, 7, 3, 2, 4, 9, 6, 6, 1, 7, 5, 3, 0, 1, 8, 2,\n",
       "       2, 1, 3, 7, 9, 6, 7, 6, 7, 7, 9, 7, 3, 1, 2, 1, 7, 8, 0, 8, 8, 3,\n",
       "       1, 6, 0, 5, 8, 8, 6, 3, 2, 4, 4, 0, 9, 1, 9, 4, 3, 3, 1, 4, 0, 5,\n",
       "       7, 9, 0, 5, 2, 3, 4, 4, 4, 9, 5, 0, 0, 6, 8, 4, 6, 0, 7, 0, 8, 8,\n",
       "       7, 9, 3, 0, 5, 9, 5, 3, 5, 7, 3, 9, 9, 4, 8, 9, 3, 0, 8, 1, 0, 9,\n",
       "       2, 6, 6, 3, 7, 0, 2, 8, 7, 0, 4, 2, 1, 3, 1, 3, 5, 3, 9, 3, 0, 0,\n",
       "       3, 6, 3, 2, 0, 1, 6, 4, 3, 2, 8, 2, 4, 4, 7, 8, 5, 3, 7, 4, 2, 8,\n",
       "       0, 0, 0, 3, 1, 6, 6, 2, 5, 2, 9, 2, 6, 3, 5, 2, 7, 0, 0, 3, 7, 8,\n",
       "       6, 7, 8, 7, 0, 5, 3, 2, 8, 2, 4, 7, 8, 9, 4, 9, 8, 0, 7, 6, 3, 9,\n",
       "       2, 5, 6, 0, 1, 9, 6, 0, 2, 5, 9, 5, 8, 4, 1, 4, 6, 2, 6, 9, 9, 9,\n",
       "       5, 2, 4, 5, 3, 8, 3, 8, 8, 8, 1, 0, 4, 8, 8, 9, 3, 4, 4, 8, 9, 0,\n",
       "       1, 7, 7, 4, 5, 0, 1, 3, 7, 5, 6, 9, 2, 1, 2, 8, 9, 6, 8, 4, 6, 9,\n",
       "       0, 5, 3, 3, 5, 6, 6, 5, 8, 2, 9, 3, 6, 1, 1, 7, 0, 8, 8, 3, 2, 1,\n",
       "       0, 0, 8, 0, 0, 1, 1, 6, 9, 2, 4, 2, 7, 0, 8, 8, 4, 1, 7, 2, 4, 2,\n",
       "       0, 9, 6, 1, 3, 9, 9, 0, 0, 4, 6, 7, 1, 0, 1, 3, 2, 5, 5, 3, 2, 9,\n",
       "       1, 6, 6, 8, 9, 4, 1, 3, 9, 0, 5, 4, 3, 4, 1, 3, 1, 2, 4, 2, 4, 2,\n",
       "       2, 3, 4, 4, 7, 1, 3, 7, 6, 5, 7, 9, 3, 0, 8, 4, 9, 9, 9, 6, 2, 2,\n",
       "       1, 5, 6, 6, 7, 9, 9, 3, 8, 4, 1, 1, 3, 5, 5, 6, 5, 9, 0, 0, 9, 2,\n",
       "       2, 9, 2, 7, 3, 9, 7, 2, 0, 9, 7, 0, 3, 1, 7, 8, 4, 2, 2, 7, 3, 3,\n",
       "       2, 9, 3, 2, 3, 0, 9, 9, 9, 3, 4, 3, 1, 1, 1, 2, 4, 8, 6, 6, 0, 1,\n",
       "       2, 1, 6, 1, 7, 6, 1, 1, 4, 3, 1, 1, 6, 8, 7, 8, 5, 1, 9, 8, 6, 7,\n",
       "       3, 3, 0, 6, 0, 3, 5, 1, 3, 9, 9, 3, 8, 8, 6, 5])"
      ]
     },
     "execution_count": 34,
     "metadata": {},
     "output_type": "execute_result"
    }
   ],
   "source": [
    "from sklearn.naive_bayes import MultinomialNB\n",
    "\n",
    "clf = MultinomialNB()\n",
    "\n",
    "clf.fit(x_train, train_labels)\n",
    "\n",
    "predicted_labels = clf.predict(x_test)\n",
    "predicted_labels"
   ]
  },
  {
   "cell_type": "code",
   "execution_count": 35,
   "id": "d0223de7-1989-4115-95cf-8d90cfd9288c",
   "metadata": {},
   "outputs": [
    {
     "data": {
      "text/plain": [
       "0.836"
      ]
     },
     "execution_count": 35,
     "metadata": {},
     "output_type": "execute_result"
    }
   ],
   "source": [
    "clf.score(x_test, test_labels)"
   ]
  },
  {
   "cell_type": "code",
   "execution_count": null,
   "id": "d12faa9e-dfbb-4db4-bad3-9a5f71d356b8",
   "metadata": {},
   "outputs": [],
   "source": [
    "bins = [3, 5, 7, 9, 11]\n",
    "\n",
    "for bin in bins:\n",
    "    \n",
    "    \n",
    "# hyper - tuning parameterst\n",
    "\n",
    "#confusion matrix\n",
    "\n"
   ]
  }
 ],
 "metadata": {
  "kernelspec": {
   "display_name": "Python 3 (ipykernel)",
   "language": "python",
   "name": "python3"
  },
  "language_info": {
   "codemirror_mode": {
    "name": "ipython",
    "version": 3
   },
   "file_extension": ".py",
   "mimetype": "text/x-python",
   "name": "python",
   "nbconvert_exporter": "python",
   "pygments_lexer": "ipython3",
   "version": "3.9.7"
  }
 },
 "nbformat": 4,
 "nbformat_minor": 5
}
